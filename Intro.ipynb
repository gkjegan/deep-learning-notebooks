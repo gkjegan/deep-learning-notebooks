{
 "cells": [
  {
   "cell_type": "markdown",
   "id": "df0990c6",
   "metadata": {},
   "source": [
    "# Intorduction to Neural Network and Frameworks\n",
    "\n",
    "Welcome to the 2 day practical session on how to run Sequence modeling. \n",
    "\n",
    "## What we will cover in 2 days?\n",
    "Day 1: \n",
    "1. (20 mins) We will start with a quick recap on nueral network and introduce different frameworks to run the neural network.\n",
    "2. (15 mins) Simple CNN example and intution behind each steps\n",
    "3. (15 mins) Simple RNN exampe and intution behind each steps\n",
    "4. (15 mins) Simple GAN examples and intution behind each steps\n",
    "\n",
    "Day 2:\n",
    "1. Introduction to Transformers (Encoder, Decoder, and Attention)\n",
    "2. Simple example of GPT transformer models\n",
    "3. Intorudction to LangChain and where the sequence modeling is trending.\n",
    "\n",
    "\n",
    "## Disclaimer:\n",
    "1. Not a Data Scientist or ML Engineer\n",
    "2. ML enthusiast with passion towards learning\n",
    "3. **Make assumptions and move forward**"
   ]
  },
  {
   "cell_type": "markdown",
   "id": "f35cd39a",
   "metadata": {},
   "source": [
    "## Recap on Basics\n",
    "\n",
    "\n",
    "### Concepts\n",
    "1. Input Layer\n",
    "    a. Neurons are the input features to train.\n",
    "    b. weights are the influence of each input on the outcome.\n",
    "    c: Bias account for patterns not solely dictated by input data.\n",
    "2. Hidden Layer\n",
    "    a. Neurons are the processing steps to understand the relationship in the data\n",
    "    b. weights are still the influence after each processing steps\n",
    "    c: Activation functions introduces non linearity in the hidden layers (ReLU, Tanh)\n",
    "3. Output Layer\n",
    "    a. Neurons depends on the output format (binary, multiclass, regression)\n",
    "    b. Activation function again depends on the output format  (sigmoid, softmax, linear)\n",
    "\n",
    "### Programming Steps\n",
    "1. Data preparation\n",
    "    a. Data cleanup and conversions\n",
    "    b. Normalize the data - Avoid feature bias, speed up optimization\n",
    "    c. Arrange in vector and matrix (shape and re-shape)\n",
    "    d. Split into train and test\n",
    "2. Build the model\n",
    "    a. Build each layer and number of neurons.\n",
    "    b. define activation functions.\n",
    "3. Train the model\n",
    "    <ul>\n",
    "    <li>Initialize the weights</li>\n",
    "    <li>Forward propagation: matrix multiplication of weights and input features and apply activation function at each hidden layer. At the out layer, apply activation function to predict the output</li>\n",
    "    <li>Loss functions: measure the difference between output and predictions. (MSE, Cross-entropy loss)</li>\n",
    "    <li>Back propogation: Think of back propogation is a process to calulate the magnitude and direction of weight changes at each neuron to reduce the loss.</li>\n",
    "    <li>Optimization function: Take the weight change calculated by back propagation and just reduce from original weight (GD) or apply difference different functions to calculate new weights (such as SGD, Adagrad, Adam)</li>\n",
    "    <li>Epoch: Run the above steps n times. </li>\n",
    "    </ul>\n",
    "4. Evaluate the model\n",
    "    a. Evalaute the model using test data.\n",
    "    "
   ]
  },
  {
   "cell_type": "markdown",
   "id": "b7e3fee6",
   "metadata": {},
   "source": [
    "## Frameworks\n",
    "\n",
    "\n",
    "<table>\n",
    "    <tr>\n",
    "        <th>From the scratch</th>\n",
    "        <th>Low level libraries</th>\n",
    "        <th>API</th>\n",
    "        <th>Models</th>\n",
    "    </tr>\n",
    "    <tr>\n",
    "        <td>\n",
    "            Write all the steps using your preferred programming language. \n",
    "            1. Complex\n",
    "            2. Scale for large dataset\n",
    "            3. Effeciecy on data handling and calculation during multiple layers\n",
    "            4. Debugging\n",
    "            https://github.com/Dev-Gaju/NNFS-book-with-Implementation/blob/master/README.md\n",
    "        </td>\n",
    "        <td>\n",
    "            Low-level libraries or framework come to rescue. Tensorflow (Google), PyTorch(Meta), JAX\n",
    "            Solved for scalbility, effeciency\n",
    "            Reduce the complexity, but the learning curve is bit high and debugging is hard\n",
    "        </td>\n",
    "        <td>\n",
    "            API runs on top of Low level libraries.\n",
    "            Keras is one of the popular API, which we will use in demo\n",
    "        </td>\n",
    "        <td>\n",
    "            Pre trained Models\n",
    "        </td>        \n",
    "    </tr>\n",
    "    \n",
    "    \n",
    "</table>"
   ]
  },
  {
   "cell_type": "markdown",
   "id": "5d1efeca",
   "metadata": {},
   "source": [
    "## Handwriting recognition\n",
    "\n",
    "The standard example for machine learning these days is the MNIST data set, a collection of 70,000 handwriting samples of the numbers 0-9. Our challenge - to predict which number each handwritten image represents.\n",
    "\n",
    "\n",
    "## TesnorFlow Version"
   ]
  },
  {
   "cell_type": "markdown",
   "id": "1b9bad0d",
   "metadata": {},
   "source": [
    "### Step1: Data Preparation"
   ]
  },
  {
   "cell_type": "code",
   "execution_count": 1,
   "id": "75515413",
   "metadata": {},
   "outputs": [],
   "source": [
    "# Prepare MNIST data.\n",
    "import numpy as np\n",
    "import tensorflow as tf\n",
    "from tensorflow.keras.datasets import mnist\n",
    "%matplotlib inline\n",
    "import matplotlib.pyplot as plt"
   ]
  },
  {
   "cell_type": "code",
   "execution_count": 2,
   "id": "b95d86e6",
   "metadata": {},
   "outputs": [],
   "source": [
    "np.set_printoptions(threshold=10000)"
   ]
  },
  {
   "cell_type": "code",
   "execution_count": 3,
   "id": "f48be577",
   "metadata": {},
   "outputs": [],
   "source": [
    "# MNIST dataset parameters\n",
    "num_classes = 10 # total classes (0-9 digits)\n",
    "num_features = 784 # data features (img shape: 28*28)"
   ]
  },
  {
   "cell_type": "code",
   "execution_count": 4,
   "id": "6c29aa0b",
   "metadata": {},
   "outputs": [],
   "source": [
    "(x_train, y_train), (x_test, y_test) = mnist.load_data()"
   ]
  },
  {
   "cell_type": "code",
   "execution_count": 5,
   "id": "593333c6",
   "metadata": {},
   "outputs": [
    {
     "data": {
      "image/png": "[encoded data removed]",
      "text/plain": [
       "<Figure size 640x480 with 1 Axes>"
      ]
     },
     "metadata": {},
     "output_type": "display_data"
    }
   ],
   "source": [
    "#Reshape the 784 values to a 28x28 image\n",
    "image = x_train[0]\n",
    "#plt.title('Sample: %d  Label: %d' % (num, label))\n",
    "plt.imshow(image, cmap=plt.get_cmap('gray_r'))\n",
    "plt.show()"
   ]
  },
  {
   "cell_type": "code",
   "execution_count": 6,
   "id": "0bf2611e",
   "metadata": {},
   "outputs": [
    {
     "data": {
      "text/plain": [
       "array([  0,   0,   0,   0,   0,   0,   0,   0,  30,  36,  94, 154, 170,\n",
       "       253, 253, 253, 253, 253, 225, 172, 253, 242, 195,  64,   0,   0,\n",
       "         0,   0], dtype=uint8)"
      ]
     },
     "execution_count": 6,
     "metadata": {},
     "output_type": "execute_result"
    }
   ],
   "source": [
    "x_train[0][6]"
   ]
  },
  {
   "cell_type": "markdown",
   "id": "ad01c32a",
   "metadata": {},
   "source": [
    "#### Step 1.a: Cleanups and numeric conversion"
   ]
  },
  {
   "cell_type": "code",
   "execution_count": 7,
   "id": "1cc3ea77",
   "metadata": {},
   "outputs": [
    {
     "data": {
      "text/plain": [
       "array([0., 0., 0., 0., 0., 0., 0., 0., 0., 0., 0., 0., 0., 0., 0., 0., 0.,\n",
       "       0., 0., 0., 0., 0., 0., 0., 0., 0., 0., 0.], dtype=float32)"
      ]
     },
     "execution_count": 7,
     "metadata": {},
     "output_type": "execute_result"
    }
   ],
   "source": [
    "# Convert to float32\n",
    "x_train, x_test = np.array(x_train, np.float32), np.array(x_test, np.float32)\n",
    "x_train[0][1]"
   ]
  },
  {
   "cell_type": "markdown",
   "id": "42e6cb4a",
   "metadata": {},
   "source": [
    "#### Step 1b: Normalize"
   ]
  },
  {
   "cell_type": "code",
   "execution_count": 8,
   "id": "980d0c21",
   "metadata": {},
   "outputs": [],
   "source": [
    "# Normalize images value from [0, 255] to [0, 1]\n",
    "x_train, x_test = x_train / 255., x_test / 255."
   ]
  },
  {
   "cell_type": "code",
   "execution_count": 9,
   "id": "08326ab8",
   "metadata": {},
   "outputs": [
    {
     "data": {
      "text/plain": [
       "array([0.        , 0.        , 0.        , 0.        , 0.        ,\n",
       "       0.        , 0.        , 0.        , 0.11764706, 0.14117648,\n",
       "       0.36862746, 0.6039216 , 0.6666667 , 0.99215686, 0.99215686,\n",
       "       0.99215686, 0.99215686, 0.99215686, 0.88235295, 0.6745098 ,\n",
       "       0.99215686, 0.9490196 , 0.7647059 , 0.2509804 , 0.        ,\n",
       "       0.        , 0.        , 0.        ], dtype=float32)"
      ]
     },
     "execution_count": 9,
     "metadata": {},
     "output_type": "execute_result"
    }
   ],
   "source": [
    "x_train[0][6]"
   ]
  },
  {
   "cell_type": "markdown",
   "id": "55087b08",
   "metadata": {},
   "source": [
    "#### Step 1c: Reshape"
   ]
  },
  {
   "cell_type": "code",
   "execution_count": 10,
   "id": "0f724b6d",
   "metadata": {},
   "outputs": [],
   "source": [
    "# Flatten images to 1-D vector of 784 features (28*28)\n",
    "x_train, x_test = x_train.reshape([-1, num_features]), x_test.reshape([-1, num_features])"
   ]
  },
  {
   "cell_type": "markdown",
   "id": "893cf3d3",
   "metadata": {},
   "source": [
    "#### Step 1e: Finalize Dataset"
   ]
  },
  {
   "cell_type": "code",
   "execution_count": 12,
   "id": "ad77dcd4",
   "metadata": {},
   "outputs": [],
   "source": [
    "# Use tf.data API to shuffle and batch data.\n",
    "train_data = tf.data.Dataset.from_tensor_slices((x_train, y_train))"
   ]
  },
  {
   "cell_type": "code",
   "execution_count": 13,
   "id": "bfdc8a39",
   "metadata": {},
   "outputs": [
    {
     "name": "stdout",
     "output_type": "stream",
     "text": [
      "<_TensorSliceDataset element_spec=(TensorSpec(shape=(784,), dtype=tf.float32, name=None), TensorSpec(shape=(), dtype=tf.uint8, name=None))>\n"
     ]
    }
   ],
   "source": [
    "print(train_data)"
   ]
  },
  {
   "cell_type": "markdown",
   "id": "83adac08",
   "metadata": {},
   "source": [
    "#### Step 1.f: Create a batch and shuffle"
   ]
  },
  {
   "cell_type": "code",
   "execution_count": 14,
   "id": "eb0824e3",
   "metadata": {},
   "outputs": [],
   "source": [
    "train_data = train_data.repeat().shuffle(60000).batch(batch_size).prefetch(1)"
   ]
  },
  {
   "cell_type": "code",
   "execution_count": 15,
   "id": "d32b4684",
   "metadata": {},
   "outputs": [
    {
     "data": {
      "text/plain": [
       "<_PrefetchDataset element_spec=(TensorSpec(shape=(None, 784), dtype=tf.float32, name=None), TensorSpec(shape=(None,), dtype=tf.uint8, name=None))>"
      ]
     },
     "execution_count": 15,
     "metadata": {},
     "output_type": "execute_result"
    }
   ],
   "source": [
    "train_data"
   ]
  },
  {
   "cell_type": "markdown",
   "id": "70b69eb7",
   "metadata": {},
   "source": [
    "### Step2: Build the Model"
   ]
  },
  {
   "cell_type": "markdown",
   "id": "3c5be40a",
   "metadata": {},
   "source": [
    "#### Step2.a: Setup training paramerters"
   ]
  },
  {
   "cell_type": "code",
   "execution_count": null,
   "id": "e8ae684c",
   "metadata": {},
   "outputs": [],
   "source": [
    "# Training parameters.\n",
    "learning_rate = 0.001\n",
    "training_steps = 3000\n",
    "batch_size = 250\n",
    "display_step = 100\n",
    "\n",
    "# Network parameters.\n",
    "n_hidden = 512 # Number of neurons."
   ]
  },
  {
   "cell_type": "markdown",
   "id": "f36dbc24",
   "metadata": {},
   "source": [
    "#### Step2.c: Initialize weights"
   ]
  },
  {
   "cell_type": "code",
   "execution_count": 16,
   "id": "e4a22ca9",
   "metadata": {},
   "outputs": [
    {
     "name": "stderr",
     "output_type": "stream",
     "text": [
      "/Users/jegankarunakaran/anaconda3/lib/python3.11/site-packages/keras/initializers/initializers.py:120: UserWarning: The initializer RandomNormal is unseeded and being called multiple times, which will return identical values each time (even if the initializer is unseeded). Please update your code to provide a seed to the initializer, or avoid using the same initalizer instance more than once.\n",
      "  warnings.warn(\n"
     ]
    }
   ],
   "source": [
    "# A random value generator to initialize weights initially\n",
    "random_normal = tf.initializers.RandomNormal()\n",
    "weights = {\n",
    "    'h': tf.Variable(random_normal([num_features, n_hidden])),\n",
    "    'out': tf.Variable(random_normal([n_hidden, num_classes]))\n",
    "}\n",
    "biases = {\n",
    "    'b': tf.Variable(tf.zeros([n_hidden])),\n",
    "    'out': tf.Variable(tf.zeros([num_classes]))\n",
    "}"
   ]
  },
  {
   "cell_type": "markdown",
   "id": "3287ae8f",
   "metadata": {},
   "source": [
    "#### Step2.d: Create Model functions\n",
    "1. neural_net -> Forward propagation\n",
    "2. cross_entropy -> Loss function\n",
    "3. run_optimization -> Back propogation\n",
    "4. optimizer -> Optimizer function\n",
    "5. accuracy -> test function"
   ]
  },
  {
   "cell_type": "code",
   "execution_count": 17,
   "id": "510d7aa7",
   "metadata": {},
   "outputs": [],
   "source": [
    "# Create model. (Define Forward Propogation)\n",
    "def neural_net(inputData):\n",
    "\n",
    "    # Hidden fully connected layer with 512 neurons.\n",
    "    hidden_layer = tf.add(tf.matmul(inputData, weights['h']), biases['b'])\n",
    "   \n",
    "    # Apply sigmoid to hidden_layer output for non-linearity.\n",
    "    hidden_layer = tf.nn.sigmoid(hidden_layer)\n",
    "\n",
    "    # Output fully connected layer with a neuron for each class.\n",
    "    out_layer = tf.matmul(hidden_layer, weights['out']) + biases['out']\n",
    "    # Apply softmax to normalize the logits to a probability distribution.\n",
    "    return tf.nn.softmax(out_layer)"
   ]
  },
  {
   "cell_type": "code",
   "execution_count": 18,
   "id": "ce12f9ca",
   "metadata": {},
   "outputs": [],
   "source": [
    "# Define loss Function\n",
    "def cross_entropy(y_pred, y_true):\n",
    "    # Encode label to a one hot vector.\n",
    "    y_true = tf.one_hot(y_true, depth=num_classes)\n",
    "    # Clip prediction values to avoid log(0) error.\n",
    "    y_pred = tf.clip_by_value(y_pred, 1e-9, 1.)\n",
    "    # Compute cross-entropy.\n",
    "    return tf.reduce_mean(-tf.reduce_sum(y_true * tf.math.log(y_pred)))"
   ]
  },
  {
   "cell_type": "code",
   "execution_count": 19,
   "id": "d9f2b479",
   "metadata": {},
   "outputs": [
    {
     "name": "stderr",
     "output_type": "stream",
     "text": [
      "WARNING:absl:At this time, the v2.11+ optimizer `tf.keras.optimizers.SGD` runs slowly on M1/M2 Macs, please use the legacy Keras optimizer instead, located at `tf.keras.optimizers.legacy.SGD`.\n"
     ]
    }
   ],
   "source": [
    "# Define what optimizer function is used\n",
    "optimizer = tf.keras.optimizers.SGD(learning_rate)\n"
   ]
  },
  {
   "cell_type": "code",
   "execution_count": 20,
   "id": "b0b46539",
   "metadata": {},
   "outputs": [],
   "source": [
    "# Back propagation function\n",
    "def run_optimization(x, y):\n",
    "    # Wrap computation inside a GradientTape for automatic differentiation.\n",
    "    with tf.GradientTape() as g:\n",
    "        pred = neural_net(x)\n",
    "        loss = cross_entropy(pred, y)\n",
    "        \n",
    "    # Variables to update, i.e. trainable variables.\n",
    "    trainable_variables = list(weights.values()) + list(biases.values())\n",
    "\n",
    "    # Compute gradients.\n",
    "    gradients = g.gradient(loss, trainable_variables)\n",
    "    \n",
    "    # Update W and b following gradients.\n",
    "    optimizer.apply_gradients(zip(gradients, trainable_variables))"
   ]
  },
  {
   "cell_type": "code",
   "execution_count": 21,
   "id": "3454e67e",
   "metadata": {},
   "outputs": [],
   "source": [
    "# Accuracy metric.\n",
    "def accuracy(y_pred, y_true):\n",
    "    # Predicted class is the index of highest score in prediction vector (i.e. argmax).\n",
    "    correct_prediction = tf.equal(tf.argmax(y_pred, 1), tf.cast(y_true, tf.int64))\n",
    "    return tf.reduce_mean(tf.cast(correct_prediction, tf.float32), axis=-1)"
   ]
  },
  {
   "cell_type": "markdown",
   "id": "94b5c4e7",
   "metadata": {},
   "source": [
    "#### Step3: Train the Model\n",
    "\n",
    "run_optimization for specific ephocs"
   ]
  },
  {
   "cell_type": "code",
   "execution_count": 22,
   "id": "67343884",
   "metadata": {},
   "outputs": [],
   "source": [
    "# Test one Batch\n",
    "# ds = train_data.take(1)\n",
    "# for ds_x, ds_y in ds:\n",
    "#     with tf.GradientTape() as g:\n",
    "#         pred = neural_net(ds_x)\n",
    "#         loss = cross_entropy(pred, ds_y)\n",
    "        \n",
    "# # Variables to update, i.e. trainable variables.\n",
    "#     trainable_variables = list(weights.values()) + list(biases.values())\n",
    "#     gradients = g.gradient(loss, trainable_variables)\n",
    "#     optimizer.apply_gradients(zip(gradients, trainable_variables))\n"
   ]
  },
  {
   "cell_type": "code",
   "execution_count": 23,
   "id": "35edfa90",
   "metadata": {},
   "outputs": [
    {
     "name": "stderr",
     "output_type": "stream",
     "text": [
      "2024-02-17 12:46:20.216424: I tensorflow/core/common_runtime/executor.cc:1197] [/device:CPU:0] (DEBUG INFO) Executor start aborting (this does not indicate an error and you can ignore this message): INVALID_ARGUMENT: You must feed a value for placeholder tensor 'Placeholder/_1' with dtype uint8 and shape [60000]\n",
      "\t [[{{node Placeholder/_1}}]]\n",
      "2024-02-17 12:46:20.216580: I tensorflow/core/common_runtime/executor.cc:1197] [/device:CPU:0] (DEBUG INFO) Executor start aborting (this does not indicate an error and you can ignore this message): INVALID_ARGUMENT: You must feed a value for placeholder tensor 'Placeholder/_1' with dtype uint8 and shape [60000]\n",
      "\t [[{{node Placeholder/_1}}]]\n"
     ]
    },
    {
     "name": "stdout",
     "output_type": "stream",
     "text": [
      "Training epoch: 100, Loss: 175.971466, Accuracy: 0.840000\n",
      "Training epoch: 200, Loss: 117.992096, Accuracy: 0.880000\n",
      "Training epoch: 300, Loss: 118.265350, Accuracy: 0.880000\n",
      "Training epoch: 400, Loss: 90.383102, Accuracy: 0.876000\n",
      "Training epoch: 500, Loss: 87.996490, Accuracy: 0.908000\n",
      "Training epoch: 600, Loss: 94.543427, Accuracy: 0.896000\n",
      "Training epoch: 700, Loss: 61.631683, Accuracy: 0.916000\n",
      "Training epoch: 800, Loss: 90.040985, Accuracy: 0.892000\n",
      "Training epoch: 900, Loss: 74.013123, Accuracy: 0.916000\n",
      "Training epoch: 1000, Loss: 77.970261, Accuracy: 0.924000\n",
      "Training epoch: 1100, Loss: 64.252106, Accuracy: 0.940000\n",
      "Training epoch: 1200, Loss: 69.006386, Accuracy: 0.920000\n",
      "Training epoch: 1300, Loss: 79.784187, Accuracy: 0.912000\n",
      "Training epoch: 1400, Loss: 83.230927, Accuracy: 0.900000\n",
      "Training epoch: 1500, Loss: 64.665886, Accuracy: 0.928000\n",
      "Training epoch: 1600, Loss: 60.908890, Accuracy: 0.932000\n",
      "Training epoch: 1700, Loss: 60.514694, Accuracy: 0.940000\n",
      "Training epoch: 1800, Loss: 69.016602, Accuracy: 0.932000\n",
      "Training epoch: 1900, Loss: 63.782673, Accuracy: 0.936000\n",
      "Training epoch: 2000, Loss: 71.728134, Accuracy: 0.916000\n",
      "Training epoch: 2100, Loss: 50.523308, Accuracy: 0.944000\n",
      "Training epoch: 2200, Loss: 55.389217, Accuracy: 0.928000\n",
      "Training epoch: 2300, Loss: 64.075493, Accuracy: 0.928000\n",
      "Training epoch: 2400, Loss: 47.680504, Accuracy: 0.948000\n",
      "Training epoch: 2500, Loss: 55.245304, Accuracy: 0.928000\n",
      "Training epoch: 2600, Loss: 47.962906, Accuracy: 0.940000\n",
      "Training epoch: 2700, Loss: 80.065559, Accuracy: 0.912000\n",
      "Training epoch: 2800, Loss: 49.843643, Accuracy: 0.924000\n",
      "Training epoch: 2900, Loss: 39.494331, Accuracy: 0.940000\n",
      "Training epoch: 3000, Loss: 67.661514, Accuracy: 0.924000\n"
     ]
    }
   ],
   "source": [
    "# Run training for the given number of steps.\n",
    "for step, (batch_x, batch_y) in enumerate(train_data.take(training_steps), 1):\n",
    "    # Run the optimization to update W and b values.\n",
    "    run_optimization(batch_x, batch_y)\n",
    "    \n",
    "    if step % display_step == 0:\n",
    "        pred = neural_net(batch_x)\n",
    "        loss = cross_entropy(pred, batch_y)\n",
    "        acc = accuracy(pred, batch_y)\n",
    "        print(\"Training epoch: %i, Loss: %f, Accuracy: %f\" % (step, loss, acc))"
   ]
  },
  {
   "cell_type": "code",
   "execution_count": 24,
   "id": "8106d18c",
   "metadata": {},
   "outputs": [
    {
     "name": "stdout",
     "output_type": "stream",
     "text": [
      "Test Accuracy: 0.933500\n"
     ]
    }
   ],
   "source": [
    "# Test model on validation set.\n",
    "pred = neural_net(x_test)\n",
    "print(\"Test Accuracy: %f\" % accuracy(pred, y_test))"
   ]
  },
  {
   "cell_type": "code",
   "execution_count": 25,
   "id": "b13c0439",
   "metadata": {},
   "outputs": [
    {
     "data": {
      "image/png": "[encoded data removed]",
      "text/plain": [
       "<Figure size 640x480 with 1 Axes>"
      ]
     },
     "metadata": {},
     "output_type": "display_data"
    },
    {
     "name": "stdout",
     "output_type": "stream",
     "text": [
      "Original Labels: 5\n",
      "Model prediction: 6\n"
     ]
    },
    {
     "data": {
      "image/png": "[encoded data removed]",
      "text/plain": [
       "<Figure size 640x480 with 1 Axes>"
      ]
     },
     "metadata": {},
     "output_type": "display_data"
    },
    {
     "name": "stdout",
     "output_type": "stream",
     "text": [
      "Original Labels: 4\n",
      "Model prediction: 6\n"
     ]
    },
    {
     "data": {
      "image/png": "[encoded data removed]",
      "text/plain": [
       "<Figure size 640x480 with 1 Axes>"
      ]
     },
     "metadata": {},
     "output_type": "display_data"
    },
    {
     "name": "stdout",
     "output_type": "stream",
     "text": [
      "Original Labels: 3\n",
      "Model prediction: 2\n"
     ]
    },
    {
     "data": {
      "image/png": "[encoded data removed]",
      "text/plain": [
       "<Figure size 640x480 with 1 Axes>"
      ]
     },
     "metadata": {},
     "output_type": "display_data"
    },
    {
     "name": "stdout",
     "output_type": "stream",
     "text": [
      "Original Labels: 6\n",
      "Model prediction: 2\n"
     ]
    },
    {
     "data": {
      "image/png": "[encoded data removed]",
      "text/plain": [
       "<Figure size 640x480 with 1 Axes>"
      ]
     },
     "metadata": {},
     "output_type": "display_data"
    },
    {
     "name": "stdout",
     "output_type": "stream",
     "text": [
      "Original Labels: 7\n",
      "Model prediction: 4\n"
     ]
    },
    {
     "data": {
      "image/png": "[encoded data removed]",
      "text/plain": [
       "<Figure size 640x480 with 1 Axes>"
      ]
     },
     "metadata": {},
     "output_type": "display_data"
    },
    {
     "name": "stdout",
     "output_type": "stream",
     "text": [
      "Original Labels: 2\n",
      "Model prediction: 9\n"
     ]
    },
    {
     "data": {
      "image/png": "[encoded data removed]",
      "text/plain": [
       "<Figure size 640x480 with 1 Axes>"
      ]
     },
     "metadata": {},
     "output_type": "display_data"
    },
    {
     "name": "stdout",
     "output_type": "stream",
     "text": [
      "Original Labels: 9\n",
      "Model prediction: 3\n"
     ]
    },
    {
     "data": {
      "image/png": "[encoded data removed]",
      "text/plain": [
       "<Figure size 640x480 with 1 Axes>"
      ]
     },
     "metadata": {},
     "output_type": "display_data"
    },
    {
     "name": "stdout",
     "output_type": "stream",
     "text": [
      "Original Labels: 3\n",
      "Model prediction: 5\n"
     ]
    }
   ],
   "source": [
    "n_images = 200\n",
    "test_images = x_test[:n_images]\n",
    "test_labels = y_test[:n_images]\n",
    "predictions = neural_net(test_images)\n",
    "\n",
    "for i in range(n_images):\n",
    "    model_prediction = np.argmax(predictions.numpy()[i])\n",
    "    if (model_prediction != test_labels[i]):\n",
    "        plt.imshow(np.reshape(test_images[i], [28, 28]), cmap='gray_r')\n",
    "        plt.show()\n",
    "        print(\"Original Labels: %i\" % test_labels[i])\n",
    "        print(\"Model prediction: %i\" % model_prediction)"
   ]
  },
  {
   "cell_type": "code",
   "execution_count": null,
   "id": "40c4b10a",
   "metadata": {},
   "outputs": [],
   "source": []
  }
 ],
 "metadata": {
  "kernelspec": {
   "display_name": "Python 3 (ipykernel)",
   "language": "python",
   "name": "python3"
  },
  "language_info": {
   "codemirror_mode": {
    "name": "ipython",
    "version": 3
   },
   "file_extension": ".py",
   "mimetype": "text/x-python",
   "name": "python",
   "nbconvert_exporter": "python",
   "pygments_lexer": "ipython3",
   "version": "3.11.5"
  }
 },
 "nbformat": 4,
 "nbformat_minor": 5
}
